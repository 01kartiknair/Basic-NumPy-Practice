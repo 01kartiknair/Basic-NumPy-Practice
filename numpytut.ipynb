{
 "cells": [
  {
   "cell_type": "code",
   "execution_count": 6,
   "id": "a866c74d-fc9f-43d7-bad3-aafa12d374d1",
   "metadata": {},
   "outputs": [],
   "source": [
    "import numpy as np"
   ]
  },
  {
   "cell_type": "code",
   "execution_count": 144,
   "id": "588629ed-0fe0-4d48-869c-94104d87b642",
   "metadata": {},
   "outputs": [],
   "source": [
    "import sys"
   ]
  },
  {
   "cell_type": "markdown",
   "id": "dca65e19-d5ce-4e82-9a70-d6ed3d807951",
   "metadata": {},
   "source": [
    "### Numpy array basics"
   ]
  },
  {
   "cell_type": "code",
   "execution_count": 7,
   "id": "ade37e3a-0f5a-4f06-a606-a21bacce421b",
   "metadata": {},
   "outputs": [
    {
     "data": {
      "text/plain": [
       "array([1, 2, 3])"
      ]
     },
     "execution_count": 7,
     "metadata": {},
     "output_type": "execute_result"
    }
   ],
   "source": [
    "np.array([1,2,3])"
   ]
  },
  {
   "cell_type": "code",
   "execution_count": 8,
   "id": "bc65a75c-a874-492a-a41d-b34b21c0b602",
   "metadata": {},
   "outputs": [],
   "source": [
    "a=np.array([1,2,3,4])"
   ]
  },
  {
   "cell_type": "code",
   "execution_count": 9,
   "id": "522e15f5-f1fa-4633-8a65-7a816c0735e9",
   "metadata": {},
   "outputs": [],
   "source": [
    "b=np.array([1,2,3,4,5,6,7,8,9])"
   ]
  },
  {
   "cell_type": "code",
   "execution_count": 10,
   "id": "ec0e674a-9d0a-4805-a276-99c09ceed3e9",
   "metadata": {},
   "outputs": [
    {
     "data": {
      "text/plain": [
       "(3, 2)"
      ]
     },
     "execution_count": 10,
     "metadata": {},
     "output_type": "execute_result"
    }
   ],
   "source": [
    "a[2],b[1]"
   ]
  },
  {
   "cell_type": "code",
   "execution_count": 12,
   "id": "3dcf4466-d77b-4660-bda1-7f60d52537af",
   "metadata": {},
   "outputs": [
    {
     "data": {
      "text/plain": [
       "array([2, 3, 4])"
      ]
     },
     "execution_count": 12,
     "metadata": {},
     "output_type": "execute_result"
    }
   ],
   "source": [
    "b[1:4]"
   ]
  },
  {
   "cell_type": "code",
   "execution_count": 13,
   "id": "44c8ee9b-55b0-4cdb-9655-53c1075bb1be",
   "metadata": {},
   "outputs": [
    {
     "data": {
      "text/plain": [
       "array([1, 3, 5, 7, 9])"
      ]
     },
     "execution_count": 13,
     "metadata": {},
     "output_type": "execute_result"
    }
   ],
   "source": [
    "b[0::2]"
   ]
  },
  {
   "cell_type": "code",
   "execution_count": 14,
   "id": "dc906d82-6878-4e91-a145-43031669ac4d",
   "metadata": {},
   "outputs": [
    {
     "data": {
      "text/plain": [
       "array([9, 8, 7, 6, 5, 4, 3])"
      ]
     },
     "execution_count": 14,
     "metadata": {},
     "output_type": "execute_result"
    }
   ],
   "source": [
    "b[-1:1:-1]"
   ]
  },
  {
   "cell_type": "code",
   "execution_count": 15,
   "id": "8d8a5f20-49fd-4938-a2fa-eb237e1f511f",
   "metadata": {},
   "outputs": [
    {
     "data": {
      "text/plain": [
       "array([1, 2, 3, 4, 5, 6, 7, 8, 9])"
      ]
     },
     "execution_count": 15,
     "metadata": {},
     "output_type": "execute_result"
    }
   ],
   "source": [
    "b"
   ]
  },
  {
   "cell_type": "code",
   "execution_count": 17,
   "id": "83c05779-4a84-406e-8d4d-bea673a3eb1a",
   "metadata": {},
   "outputs": [
    {
     "data": {
      "text/plain": [
       "(1, 8, 4)"
      ]
     },
     "execution_count": 17,
     "metadata": {},
     "output_type": "execute_result"
    }
   ],
   "source": [
    "b[0],b[7],b[3]"
   ]
  },
  {
   "cell_type": "markdown",
   "id": "9e80ed00-0bf3-47c8-b750-782ba63e1a2a",
   "metadata": {},
   "source": [
    "### Something you can do in Numpy but not in regular python"
   ]
  },
  {
   "cell_type": "code",
   "execution_count": 16,
   "id": "84bc7fe7-c9ce-48b2-bf7a-8107712d1bce",
   "metadata": {},
   "outputs": [
    {
     "data": {
      "text/plain": [
       "array([1, 8, 4])"
      ]
     },
     "execution_count": 16,
     "metadata": {},
     "output_type": "execute_result"
    }
   ],
   "source": [
    "b[[0,7,3]]"
   ]
  },
  {
   "cell_type": "markdown",
   "id": "0ee47b2f-e2d3-4e77-b6ac-c5b02c7101f3",
   "metadata": {},
   "source": [
    "### Numpy array types"
   ]
  },
  {
   "cell_type": "code",
   "execution_count": 18,
   "id": "44015e86-3b39-462b-871b-83872a67a8f4",
   "metadata": {},
   "outputs": [],
   "source": [
    "c=np.array([1.2,3.4,5.6,9.8])"
   ]
  },
  {
   "cell_type": "code",
   "execution_count": 19,
   "id": "abacd5fa-c949-45e3-ba6d-a19756be6b4c",
   "metadata": {},
   "outputs": [
    {
     "data": {
      "text/plain": [
       "dtype('float64')"
      ]
     },
     "execution_count": 19,
     "metadata": {},
     "output_type": "execute_result"
    }
   ],
   "source": [
    "c.dtype"
   ]
  },
  {
   "cell_type": "code",
   "execution_count": 20,
   "id": "440dbadb-9340-4b18-8ac8-986fdf71ed69",
   "metadata": {},
   "outputs": [
    {
     "data": {
      "text/plain": [
       "dtype('int32')"
      ]
     },
     "execution_count": 20,
     "metadata": {},
     "output_type": "execute_result"
    }
   ],
   "source": [
    "a.dtype"
   ]
  },
  {
   "cell_type": "code",
   "execution_count": 21,
   "id": "c43585db-f15c-41cf-9dd4-4fc3f96a364a",
   "metadata": {},
   "outputs": [
    {
     "data": {
      "text/plain": [
       "dtype('int32')"
      ]
     },
     "execution_count": 21,
     "metadata": {},
     "output_type": "execute_result"
    }
   ],
   "source": [
    "b.dtype"
   ]
  },
  {
   "cell_type": "code",
   "execution_count": 25,
   "id": "e2338aa2-4950-4627-ad89-fa623b99d1d6",
   "metadata": {},
   "outputs": [
    {
     "data": {
      "text/plain": [
       "array([1., 2., 3., 4., 5.])"
      ]
     },
     "execution_count": 25,
     "metadata": {},
     "output_type": "execute_result"
    }
   ],
   "source": [
    "np.array([1,2,3,4,5], dtype=np.float64)"
   ]
  },
  {
   "cell_type": "code",
   "execution_count": 36,
   "id": "4b9df5fd-aeba-40e7-b160-055f7c0442de",
   "metadata": {},
   "outputs": [],
   "source": [
    "e=np.array(['a','b','c'])"
   ]
  },
  {
   "cell_type": "code",
   "execution_count": 37,
   "id": "5c23a401-9764-45af-a66b-b853fb44b41d",
   "metadata": {},
   "outputs": [
    {
     "data": {
      "text/plain": [
       "dtype('<U1')"
      ]
     },
     "execution_count": 37,
     "metadata": {},
     "output_type": "execute_result"
    }
   ],
   "source": [
    "e.dtype"
   ]
  },
  {
   "cell_type": "markdown",
   "id": "18a1c3cc-02a0-403c-86e6-7355e8204b2a",
   "metadata": {},
   "source": [
    "### Dimensions,Matrices,2d and 3d arrays"
   ]
  },
  {
   "cell_type": "code",
   "execution_count": 39,
   "id": "58ac074b-48cd-42eb-a957-b1ac7d2f3813",
   "metadata": {},
   "outputs": [],
   "source": [
    "A = np.array([[1,2,3],[4,5,6],[7,8,9]])"
   ]
  },
  {
   "cell_type": "code",
   "execution_count": 40,
   "id": "d7dd553c-a15c-464e-9049-fc32045278fb",
   "metadata": {},
   "outputs": [
    {
     "data": {
      "text/plain": [
       "array([[1, 2, 3],\n",
       "       [4, 5, 6],\n",
       "       [7, 8, 9]])"
      ]
     },
     "execution_count": 40,
     "metadata": {},
     "output_type": "execute_result"
    }
   ],
   "source": [
    "A"
   ]
  },
  {
   "cell_type": "code",
   "execution_count": 42,
   "id": "d15a9794-b525-40a3-981e-8654cb2fe763",
   "metadata": {},
   "outputs": [
    {
     "data": {
      "text/plain": [
       "2"
      ]
     },
     "execution_count": 42,
     "metadata": {},
     "output_type": "execute_result"
    }
   ],
   "source": [
    "A[0][1]"
   ]
  },
  {
   "cell_type": "code",
   "execution_count": 43,
   "id": "f529982b-8ac7-479d-847b-ff1d8777a573",
   "metadata": {},
   "outputs": [
    {
     "data": {
      "text/plain": [
       "array([1, 2, 3])"
      ]
     },
     "execution_count": 43,
     "metadata": {},
     "output_type": "execute_result"
    }
   ],
   "source": [
    "A[0]"
   ]
  },
  {
   "cell_type": "code",
   "execution_count": 44,
   "id": "6dc1cb4e-0c5d-4a57-9df5-de36caaaca0e",
   "metadata": {},
   "outputs": [
    {
     "data": {
      "text/plain": [
       "array([7, 8, 9])"
      ]
     },
     "execution_count": 44,
     "metadata": {},
     "output_type": "execute_result"
    }
   ],
   "source": [
    "A[2]"
   ]
  },
  {
   "cell_type": "code",
   "execution_count": 45,
   "id": "04a09a63-3117-4ddd-a0da-29ff20b94f67",
   "metadata": {},
   "outputs": [
    {
     "data": {
      "text/plain": [
       "2"
      ]
     },
     "execution_count": 45,
     "metadata": {},
     "output_type": "execute_result"
    }
   ],
   "source": [
    "A[0,1]"
   ]
  },
  {
   "cell_type": "code",
   "execution_count": 47,
   "id": "539d476b-1ac1-4c04-8911-435adee111d9",
   "metadata": {},
   "outputs": [
    {
     "data": {
      "text/plain": [
       "9"
      ]
     },
     "execution_count": 47,
     "metadata": {},
     "output_type": "execute_result"
    }
   ],
   "source": [
    "A[2,2]"
   ]
  },
  {
   "cell_type": "code",
   "execution_count": 48,
   "id": "c345b5a7-ebcd-4175-ae62-e41e340e9f97",
   "metadata": {},
   "outputs": [],
   "source": [
    "A[1]= np.array([11,12,13])"
   ]
  },
  {
   "cell_type": "code",
   "execution_count": 49,
   "id": "5b2962f8-7b6c-4e31-80e4-84a609517a7f",
   "metadata": {},
   "outputs": [
    {
     "data": {
      "text/plain": [
       "array([[ 1,  2,  3],\n",
       "       [11, 12, 13],\n",
       "       [ 7,  8,  9]])"
      ]
     },
     "execution_count": 49,
     "metadata": {},
     "output_type": "execute_result"
    }
   ],
   "source": [
    "A"
   ]
  },
  {
   "cell_type": "code",
   "execution_count": 50,
   "id": "74bdbbf1-b787-499b-a42d-75e025348e2b",
   "metadata": {},
   "outputs": [],
   "source": [
    "A[2]=99"
   ]
  },
  {
   "cell_type": "code",
   "execution_count": 51,
   "id": "1b0868aa-8c40-44d9-8b52-b9ab5594f8a7",
   "metadata": {},
   "outputs": [
    {
     "data": {
      "text/plain": [
       "array([[ 1,  2,  3],\n",
       "       [11, 12, 13],\n",
       "       [99, 99, 99]])"
      ]
     },
     "execution_count": 51,
     "metadata": {},
     "output_type": "execute_result"
    }
   ],
   "source": [
    "A"
   ]
  },
  {
   "cell_type": "code",
   "execution_count": 52,
   "id": "3ad9d993-fb55-4809-8949-b5eeb4aa633c",
   "metadata": {},
   "outputs": [
    {
     "data": {
      "text/plain": [
       "(3, 3)"
      ]
     },
     "execution_count": 52,
     "metadata": {},
     "output_type": "execute_result"
    }
   ],
   "source": [
    "A.shape"
   ]
  },
  {
   "cell_type": "code",
   "execution_count": 53,
   "id": "8ff3d07c-781d-41d1-a7d9-642ae074f5e7",
   "metadata": {},
   "outputs": [
    {
     "data": {
      "text/plain": [
       "9"
      ]
     },
     "execution_count": 53,
     "metadata": {},
     "output_type": "execute_result"
    }
   ],
   "source": [
    "A.size"
   ]
  },
  {
   "cell_type": "code",
   "execution_count": 54,
   "id": "363c71f9-bf07-4f58-9527-adfcad943d9d",
   "metadata": {},
   "outputs": [
    {
     "data": {
      "text/plain": [
       "2"
      ]
     },
     "execution_count": 54,
     "metadata": {},
     "output_type": "execute_result"
    }
   ],
   "source": [
    "A.ndim"
   ]
  },
  {
   "cell_type": "code",
   "execution_count": 56,
   "id": "01049905-5f13-4dca-8878-727387ad1708",
   "metadata": {},
   "outputs": [],
   "source": [
    "B = np.array([\n",
    "    [\n",
    "        [1,2,3],\n",
    "        [4,5,6]\n",
    "    ],\n",
    "    [\n",
    "        [11,12,13],\n",
    "        [14,15,16]\n",
    "    ]\n",
    "])"
   ]
  },
  {
   "cell_type": "code",
   "execution_count": 57,
   "id": "3fcb2ae5-3a82-4a2c-91ce-3562bc839701",
   "metadata": {},
   "outputs": [
    {
     "data": {
      "text/plain": [
       "array([[[ 1,  2,  3],\n",
       "        [ 4,  5,  6]],\n",
       "\n",
       "       [[11, 12, 13],\n",
       "        [14, 15, 16]]])"
      ]
     },
     "execution_count": 57,
     "metadata": {},
     "output_type": "execute_result"
    }
   ],
   "source": [
    "B"
   ]
  },
  {
   "cell_type": "code",
   "execution_count": 58,
   "id": "49f587b9-84b9-4d19-a25a-2ca232da6174",
   "metadata": {},
   "outputs": [
    {
     "data": {
      "text/plain": [
       "3"
      ]
     },
     "execution_count": 58,
     "metadata": {},
     "output_type": "execute_result"
    }
   ],
   "source": [
    "B.ndim"
   ]
  },
  {
   "cell_type": "code",
   "execution_count": 59,
   "id": "191866a3-ff06-43c7-b1e8-5ced279272fd",
   "metadata": {},
   "outputs": [
    {
     "data": {
      "text/plain": [
       "(2, 2, 3)"
      ]
     },
     "execution_count": 59,
     "metadata": {},
     "output_type": "execute_result"
    }
   ],
   "source": [
    "B.shape"
   ]
  },
  {
   "cell_type": "code",
   "execution_count": 60,
   "id": "77cff100-337d-462e-b337-3653c18cdd5b",
   "metadata": {},
   "outputs": [
    {
     "data": {
      "text/plain": [
       "12"
      ]
     },
     "execution_count": 60,
     "metadata": {},
     "output_type": "execute_result"
    }
   ],
   "source": [
    "B.size"
   ]
  },
  {
   "cell_type": "markdown",
   "id": "51f890d7-ad94-4dd5-97dd-622ec9ce38b6",
   "metadata": {},
   "source": [
    "### Slicing of matrices"
   ]
  },
  {
   "cell_type": "code",
   "execution_count": 61,
   "id": "6202446e-fd3d-4222-9aaf-8fab371c01e0",
   "metadata": {},
   "outputs": [
    {
     "data": {
      "text/plain": [
       "array([[ 1,  2,  3],\n",
       "       [11, 12, 13],\n",
       "       [99, 99, 99]])"
      ]
     },
     "execution_count": 61,
     "metadata": {},
     "output_type": "execute_result"
    }
   ],
   "source": [
    "A"
   ]
  },
  {
   "cell_type": "code",
   "execution_count": 62,
   "id": "bc7ec49a-4893-423f-a23a-ca8cfe2671a6",
   "metadata": {},
   "outputs": [
    {
     "data": {
      "text/plain": [
       "array([[ 1,  2,  3],\n",
       "       [11, 12, 13]])"
      ]
     },
     "execution_count": 62,
     "metadata": {},
     "output_type": "execute_result"
    }
   ],
   "source": [
    "A[0:2]"
   ]
  },
  {
   "cell_type": "code",
   "execution_count": 63,
   "id": "473e4333-06b2-44a8-b933-4575fd263c65",
   "metadata": {},
   "outputs": [
    {
     "data": {
      "text/plain": [
       "array([[ 1,  2],\n",
       "       [11, 12],\n",
       "       [99, 99]])"
      ]
     },
     "execution_count": 63,
     "metadata": {},
     "output_type": "execute_result"
    }
   ],
   "source": [
    "A[:,:2]"
   ]
  },
  {
   "cell_type": "code",
   "execution_count": 64,
   "id": "a1707a52-4a3f-4561-adcd-703578e7bb13",
   "metadata": {},
   "outputs": [
    {
     "data": {
      "text/plain": [
       "array([[ 1,  2],\n",
       "       [11, 12]])"
      ]
     },
     "execution_count": 64,
     "metadata": {},
     "output_type": "execute_result"
    }
   ],
   "source": [
    "A[:2,:2]"
   ]
  },
  {
   "cell_type": "code",
   "execution_count": 65,
   "id": "e9de7318-c264-4a4b-b6b3-23a0427b8f72",
   "metadata": {},
   "outputs": [
    {
     "data": {
      "text/plain": [
       "array([[ 3],\n",
       "       [13]])"
      ]
     },
     "execution_count": 65,
     "metadata": {},
     "output_type": "execute_result"
    }
   ],
   "source": [
    "A[:2,2:]"
   ]
  },
  {
   "cell_type": "markdown",
   "id": "d6715481-2cda-417e-b9aa-fd5b135d5ad5",
   "metadata": {},
   "source": [
    "### Statistics Summary"
   ]
  },
  {
   "cell_type": "code",
   "execution_count": 66,
   "id": "edc9b411-d72d-4360-b761-85f3055cf010",
   "metadata": {},
   "outputs": [],
   "source": [
    "a = np.array([1,2,3,4])"
   ]
  },
  {
   "cell_type": "code",
   "execution_count": 67,
   "id": "a62ffaca-c92d-4f02-9c75-bc7506c64de4",
   "metadata": {},
   "outputs": [
    {
     "data": {
      "text/plain": [
       "array([1, 2, 3, 4])"
      ]
     },
     "execution_count": 67,
     "metadata": {},
     "output_type": "execute_result"
    }
   ],
   "source": [
    "a"
   ]
  },
  {
   "cell_type": "code",
   "execution_count": 69,
   "id": "baa66f42-b366-4a5a-a6f1-a41a5747dcef",
   "metadata": {},
   "outputs": [
    {
     "data": {
      "text/plain": [
       "10"
      ]
     },
     "execution_count": 69,
     "metadata": {},
     "output_type": "execute_result"
    }
   ],
   "source": [
    "a.sum()"
   ]
  },
  {
   "cell_type": "code",
   "execution_count": 70,
   "id": "e1442f59-b21f-4134-a605-e952635542f2",
   "metadata": {},
   "outputs": [
    {
     "data": {
      "text/plain": [
       "2.5"
      ]
     },
     "execution_count": 70,
     "metadata": {},
     "output_type": "execute_result"
    }
   ],
   "source": [
    "a.mean()"
   ]
  },
  {
   "cell_type": "code",
   "execution_count": 71,
   "id": "8aed25a9-e4d6-43af-9ce1-aff0a152d69a",
   "metadata": {},
   "outputs": [
    {
     "data": {
      "text/plain": [
       "1.118033988749895"
      ]
     },
     "execution_count": 71,
     "metadata": {},
     "output_type": "execute_result"
    }
   ],
   "source": [
    "a.std()"
   ]
  },
  {
   "cell_type": "code",
   "execution_count": 73,
   "id": "60ac015d-ecb6-4b4e-b4d6-aaf3fe3aea0f",
   "metadata": {},
   "outputs": [
    {
     "data": {
      "text/plain": [
       "1.25"
      ]
     },
     "execution_count": 73,
     "metadata": {},
     "output_type": "execute_result"
    }
   ],
   "source": [
    "a.var()"
   ]
  },
  {
   "cell_type": "code",
   "execution_count": 74,
   "id": "7ea6613f-78b4-4f10-ac65-2e8189d87e98",
   "metadata": {},
   "outputs": [
    {
     "data": {
      "text/plain": [
       "array([[ 1,  2,  3],\n",
       "       [11, 12, 13],\n",
       "       [99, 99, 99]])"
      ]
     },
     "execution_count": 74,
     "metadata": {},
     "output_type": "execute_result"
    }
   ],
   "source": [
    "A"
   ]
  },
  {
   "cell_type": "code",
   "execution_count": 76,
   "id": "7c89d19d-0834-419f-bf99-f95475119f2d",
   "metadata": {},
   "outputs": [
    {
     "data": {
      "text/plain": [
       "339"
      ]
     },
     "execution_count": 76,
     "metadata": {},
     "output_type": "execute_result"
    }
   ],
   "source": [
    "A.sum()"
   ]
  },
  {
   "cell_type": "code",
   "execution_count": 77,
   "id": "45d1e985-6edc-48df-9f28-05f5115e04b7",
   "metadata": {},
   "outputs": [
    {
     "data": {
      "text/plain": [
       "37.666666666666664"
      ]
     },
     "execution_count": 77,
     "metadata": {},
     "output_type": "execute_result"
    }
   ],
   "source": [
    "A.mean()"
   ]
  },
  {
   "cell_type": "code",
   "execution_count": 78,
   "id": "18fb2b64-b1d1-4d24-a9db-ad229358a9d3",
   "metadata": {},
   "outputs": [
    {
     "data": {
      "text/plain": [
       "43.56604182158393"
      ]
     },
     "execution_count": 78,
     "metadata": {},
     "output_type": "execute_result"
    }
   ],
   "source": [
    "A.std()"
   ]
  },
  {
   "cell_type": "code",
   "execution_count": 79,
   "id": "5f1f9911-6956-4d1a-9a3c-6a674810ac8d",
   "metadata": {},
   "outputs": [
    {
     "data": {
      "text/plain": [
       "1898.0"
      ]
     },
     "execution_count": 79,
     "metadata": {},
     "output_type": "execute_result"
    }
   ],
   "source": [
    "A.var()"
   ]
  },
  {
   "cell_type": "code",
   "execution_count": 81,
   "id": "96140ccf-7935-4160-8ce6-6bfdc7b2b17b",
   "metadata": {},
   "outputs": [
    {
     "data": {
      "text/plain": [
       "array([111, 113, 115])"
      ]
     },
     "execution_count": 81,
     "metadata": {},
     "output_type": "execute_result"
    }
   ],
   "source": [
    "A.sum(axis=0)"
   ]
  },
  {
   "cell_type": "code",
   "execution_count": 82,
   "id": "f88c70fe-c44e-4284-b07b-f727484a643f",
   "metadata": {},
   "outputs": [
    {
     "data": {
      "text/plain": [
       "array([  6,  36, 297])"
      ]
     },
     "execution_count": 82,
     "metadata": {},
     "output_type": "execute_result"
    }
   ],
   "source": [
    "A.sum(axis=1)"
   ]
  },
  {
   "cell_type": "code",
   "execution_count": 83,
   "id": "51f69d46-9d9e-4a3f-8527-c43eb4794aa8",
   "metadata": {},
   "outputs": [
    {
     "data": {
      "text/plain": [
       "array([37.        , 37.66666667, 38.33333333])"
      ]
     },
     "execution_count": 83,
     "metadata": {},
     "output_type": "execute_result"
    }
   ],
   "source": [
    "A.mean(axis=0)"
   ]
  },
  {
   "cell_type": "code",
   "execution_count": 85,
   "id": "67ec9811-9a8d-463a-ba69-04eea54f48d9",
   "metadata": {},
   "outputs": [
    {
     "data": {
      "text/plain": [
       "array([ 2., 12., 99.])"
      ]
     },
     "execution_count": 85,
     "metadata": {},
     "output_type": "execute_result"
    }
   ],
   "source": [
    "A.mean(axis=1) #similar thing can be done for std and var"
   ]
  },
  {
   "cell_type": "markdown",
   "id": "ce8db440-ef56-4f0a-a9f2-121b4779f76b",
   "metadata": {},
   "source": [
    "### Broadcasting and Vectorized operations"
   ]
  },
  {
   "cell_type": "code",
   "execution_count": 90,
   "id": "726c0a39-15d3-4827-95bc-2e14eb13c8b3",
   "metadata": {},
   "outputs": [],
   "source": [
    "a=np.arange(4)"
   ]
  },
  {
   "cell_type": "code",
   "execution_count": 91,
   "id": "67590416-7a56-4803-b18d-4ade9ee62dae",
   "metadata": {},
   "outputs": [
    {
     "data": {
      "text/plain": [
       "array([0, 1, 2, 3])"
      ]
     },
     "execution_count": 91,
     "metadata": {},
     "output_type": "execute_result"
    }
   ],
   "source": [
    "a"
   ]
  },
  {
   "cell_type": "markdown",
   "id": "e813d1b8-f167-4f1d-8401-f6d614f0b179",
   "metadata": {},
   "source": [
    "##### Broadcasting between array and scalar"
   ]
  },
  {
   "cell_type": "code",
   "execution_count": 92,
   "id": "71714cbd-56f9-494f-94f5-2185c514a118",
   "metadata": {},
   "outputs": [
    {
     "data": {
      "text/plain": [
       "array([10, 11, 12, 13])"
      ]
     },
     "execution_count": 92,
     "metadata": {},
     "output_type": "execute_result"
    }
   ],
   "source": [
    "a+10"
   ]
  },
  {
   "cell_type": "code",
   "execution_count": 93,
   "id": "996eb942-e925-4707-813e-9ff699f4de6c",
   "metadata": {},
   "outputs": [
    {
     "data": {
      "text/plain": [
       "array([ 0, 10, 20, 30])"
      ]
     },
     "execution_count": 93,
     "metadata": {},
     "output_type": "execute_result"
    }
   ],
   "source": [
    "a*10"
   ]
  },
  {
   "cell_type": "code",
   "execution_count": 94,
   "id": "e0dd758f-0c0e-42e2-b9d2-c3917e0f700b",
   "metadata": {},
   "outputs": [],
   "source": [
    "a+=100"
   ]
  },
  {
   "cell_type": "code",
   "execution_count": 95,
   "id": "c7d20c49-d5ee-4374-ab70-8fb70ae63c4b",
   "metadata": {},
   "outputs": [
    {
     "data": {
      "text/plain": [
       "array([100, 101, 102, 103])"
      ]
     },
     "execution_count": 95,
     "metadata": {},
     "output_type": "execute_result"
    }
   ],
   "source": [
    "a"
   ]
  },
  {
   "cell_type": "markdown",
   "id": "7bcfc2d8-496f-421a-9b97-26357360773c",
   "metadata": {},
   "source": [
    "##### List comprehension in python"
   ]
  },
  {
   "cell_type": "code",
   "execution_count": 96,
   "id": "1a714236-9399-4702-a547-d5ef3b99d0b0",
   "metadata": {},
   "outputs": [],
   "source": [
    "l= [2,4,6,8]"
   ]
  },
  {
   "cell_type": "code",
   "execution_count": 100,
   "id": "ea35b179-59db-4dd3-8b10-196f1e518ce9",
   "metadata": {},
   "outputs": [
    {
     "data": {
      "text/plain": [
       "[20, 40, 60, 80]"
      ]
     },
     "execution_count": 100,
     "metadata": {},
     "output_type": "execute_result"
    }
   ],
   "source": [
    "[i*10 for i in l]"
   ]
  },
  {
   "cell_type": "markdown",
   "id": "3e66cd8d-d48f-4830-922c-fb577288e945",
   "metadata": {},
   "source": [
    "##### Compared to list comprehension in python:\n",
    "##### -vectorized operations in numpy is much more faster and optimized"
   ]
  },
  {
   "cell_type": "markdown",
   "id": "b8a9a9a4-4a34-45cd-aabc-f8fb6dabb544",
   "metadata": {},
   "source": [
    "##### Broadcasting between array and array"
   ]
  },
  {
   "cell_type": "code",
   "execution_count": 103,
   "id": "e8fce68e-05cf-4666-a94a-0f49051d3983",
   "metadata": {},
   "outputs": [],
   "source": [
    "a=np.arange(4)"
   ]
  },
  {
   "cell_type": "code",
   "execution_count": 104,
   "id": "9b7a395a-7343-4ad7-b3a4-ba87165f42ca",
   "metadata": {},
   "outputs": [
    {
     "data": {
      "text/plain": [
       "array([0, 1, 2, 3])"
      ]
     },
     "execution_count": 104,
     "metadata": {},
     "output_type": "execute_result"
    }
   ],
   "source": [
    "a"
   ]
  },
  {
   "cell_type": "code",
   "execution_count": 106,
   "id": "3717a082-9836-4d19-a978-098233e68b57",
   "metadata": {},
   "outputs": [],
   "source": [
    "b=np.array([10,20,30,40])"
   ]
  },
  {
   "cell_type": "code",
   "execution_count": 107,
   "id": "c1ac8237-7c77-44d4-91ef-bac63a344e03",
   "metadata": {},
   "outputs": [
    {
     "data": {
      "text/plain": [
       "array([10, 20, 30, 40])"
      ]
     },
     "execution_count": 107,
     "metadata": {},
     "output_type": "execute_result"
    }
   ],
   "source": [
    "b"
   ]
  },
  {
   "cell_type": "code",
   "execution_count": 108,
   "id": "c5be9f95-7eba-4a8d-9366-9dec4e0b1a18",
   "metadata": {},
   "outputs": [
    {
     "data": {
      "text/plain": [
       "array([10, 21, 32, 43])"
      ]
     },
     "execution_count": 108,
     "metadata": {},
     "output_type": "execute_result"
    }
   ],
   "source": [
    "a+b"
   ]
  },
  {
   "cell_type": "code",
   "execution_count": 109,
   "id": "1c91c640-48fb-4da2-b219-5b53454d2710",
   "metadata": {},
   "outputs": [
    {
     "data": {
      "text/plain": [
       "array([  0,  20,  60, 120])"
      ]
     },
     "execution_count": 109,
     "metadata": {},
     "output_type": "execute_result"
    }
   ],
   "source": [
    "a*b"
   ]
  },
  {
   "cell_type": "markdown",
   "id": "9b55802b-2b94-4955-a0c8-db1480cabeb2",
   "metadata": {
    "tags": []
   },
   "source": [
    "### Boolean Arrays "
   ]
  },
  {
   "cell_type": "code",
   "execution_count": 110,
   "id": "f36ab925-9f68-46b4-b351-5fd160fbcd91",
   "metadata": {},
   "outputs": [],
   "source": [
    "a=np.arange(4)"
   ]
  },
  {
   "cell_type": "code",
   "execution_count": 111,
   "id": "51c44d87-fac6-4285-a675-c13b70c485f3",
   "metadata": {},
   "outputs": [
    {
     "data": {
      "text/plain": [
       "array([0, 1, 2, 3])"
      ]
     },
     "execution_count": 111,
     "metadata": {},
     "output_type": "execute_result"
    }
   ],
   "source": [
    "a"
   ]
  },
  {
   "cell_type": "code",
   "execution_count": 116,
   "id": "01bbedab-536d-435b-958a-276233d654a9",
   "metadata": {},
   "outputs": [
    {
     "data": {
      "text/plain": [
       "(0, 3)"
      ]
     },
     "execution_count": 116,
     "metadata": {},
     "output_type": "execute_result"
    }
   ],
   "source": [
    "a[0],a[-1]"
   ]
  },
  {
   "cell_type": "code",
   "execution_count": 117,
   "id": "89e888ef-af46-4aee-9662-a6117c950a30",
   "metadata": {},
   "outputs": [
    {
     "data": {
      "text/plain": [
       "array([0, 3])"
      ]
     },
     "execution_count": 117,
     "metadata": {},
     "output_type": "execute_result"
    }
   ],
   "source": [
    "a[[0,-1]]"
   ]
  },
  {
   "cell_type": "markdown",
   "id": "db78424d-be2f-4fed-9e78-ceeaa44d88fa",
   "metadata": {},
   "source": [
    "##### if u pass a boolean array to a, a resultant numpy array gets returned"
   ]
  },
  {
   "cell_type": "code",
   "execution_count": 119,
   "id": "19c00448-0983-415f-b1c9-9a01c3088905",
   "metadata": {},
   "outputs": [
    {
     "data": {
      "text/plain": [
       "array([0, 2])"
      ]
     },
     "execution_count": 119,
     "metadata": {},
     "output_type": "execute_result"
    }
   ],
   "source": [
    "a[[True,False,True,False]]"
   ]
  },
  {
   "cell_type": "code",
   "execution_count": 120,
   "id": "f47d1cef-5869-45e3-bdeb-de3cdde3b4c3",
   "metadata": {},
   "outputs": [
    {
     "data": {
      "text/plain": [
       "array([0, 1, 2, 3])"
      ]
     },
     "execution_count": 120,
     "metadata": {},
     "output_type": "execute_result"
    }
   ],
   "source": [
    "a"
   ]
  },
  {
   "cell_type": "markdown",
   "id": "6fe74677-c524-4273-9ac1-f2911bc80b5c",
   "metadata": {},
   "source": [
    "##### When you perform a boolean operation, you get a resultant boolean numpy array which in turn can be used for filtering"
   ]
  },
  {
   "cell_type": "code",
   "execution_count": 121,
   "id": "de82a3d6-c9d4-4e3b-80bb-2b906861847b",
   "metadata": {},
   "outputs": [
    {
     "data": {
      "text/plain": [
       "array([False,  True,  True,  True])"
      ]
     },
     "execution_count": 121,
     "metadata": {},
     "output_type": "execute_result"
    }
   ],
   "source": [
    "a>=1"
   ]
  },
  {
   "cell_type": "code",
   "execution_count": 122,
   "id": "88da5eb5-aed2-4fee-8fac-279f9a7496b0",
   "metadata": {},
   "outputs": [
    {
     "data": {
      "text/plain": [
       "array([1, 2, 3])"
      ]
     },
     "execution_count": 122,
     "metadata": {},
     "output_type": "execute_result"
    }
   ],
   "source": [
    "a[a>=1]"
   ]
  },
  {
   "cell_type": "code",
   "execution_count": 123,
   "id": "046b379b-62e8-4618-a590-98ee0d3ab5c6",
   "metadata": {},
   "outputs": [
    {
     "data": {
      "text/plain": [
       "1.5"
      ]
     },
     "execution_count": 123,
     "metadata": {},
     "output_type": "execute_result"
    }
   ],
   "source": [
    "a.mean()"
   ]
  },
  {
   "cell_type": "code",
   "execution_count": 125,
   "id": "938d07e7-11d3-4862-9d00-aef26b2c4559",
   "metadata": {},
   "outputs": [
    {
     "data": {
      "text/plain": [
       "array([2, 3])"
      ]
     },
     "execution_count": 125,
     "metadata": {},
     "output_type": "execute_result"
    }
   ],
   "source": [
    "a[a>a.mean()]"
   ]
  },
  {
   "cell_type": "code",
   "execution_count": 128,
   "id": "05558110-6165-4c6f-bca2-75fd017ddb9e",
   "metadata": {},
   "outputs": [
    {
     "data": {
      "text/plain": [
       "array([0, 1])"
      ]
     },
     "execution_count": 128,
     "metadata": {},
     "output_type": "execute_result"
    }
   ],
   "source": [
    "a[~(a>a.mean())]"
   ]
  },
  {
   "cell_type": "code",
   "execution_count": 129,
   "id": "e41025b8-2980-4e35-938f-6207ac08b33a",
   "metadata": {},
   "outputs": [
    {
     "data": {
      "text/plain": [
       "array([2])"
      ]
     },
     "execution_count": 129,
     "metadata": {},
     "output_type": "execute_result"
    }
   ],
   "source": [
    "a[(a>1)&(a<3)]"
   ]
  },
  {
   "cell_type": "code",
   "execution_count": 130,
   "id": "5ae0c192-8767-4d70-9432-2e5bb9035c15",
   "metadata": {},
   "outputs": [
    {
     "data": {
      "text/plain": [
       "array([0, 3])"
      ]
     },
     "execution_count": 130,
     "metadata": {},
     "output_type": "execute_result"
    }
   ],
   "source": [
    "a[(a<1)|(a>2)]"
   ]
  },
  {
   "cell_type": "code",
   "execution_count": 134,
   "id": "e89f6302-df9f-46b3-aa57-da514c040dbb",
   "metadata": {},
   "outputs": [
    {
     "data": {
      "text/plain": [
       "array([0, 2])"
      ]
     },
     "execution_count": 134,
     "metadata": {},
     "output_type": "execute_result"
    }
   ],
   "source": [
    "a[(a <= 2) & (a % 2 == 0)]"
   ]
  },
  {
   "cell_type": "code",
   "execution_count": 131,
   "id": "dfba3226-30fb-40d2-a528-5b3d8c585f40",
   "metadata": {},
   "outputs": [
    {
     "data": {
      "text/plain": [
       "array([[ 1,  2,  3],\n",
       "       [11, 12, 13],\n",
       "       [99, 99, 99]])"
      ]
     },
     "execution_count": 131,
     "metadata": {},
     "output_type": "execute_result"
    }
   ],
   "source": [
    "A"
   ]
  },
  {
   "cell_type": "code",
   "execution_count": 132,
   "id": "4f0ac369-e3d6-4ff5-b264-7cd63ac3e0aa",
   "metadata": {},
   "outputs": [
    {
     "data": {
      "text/plain": [
       "array([[ True,  True,  True],\n",
       "       [ True,  True,  True],\n",
       "       [False, False, False]])"
      ]
     },
     "execution_count": 132,
     "metadata": {},
     "output_type": "execute_result"
    }
   ],
   "source": [
    "A<=13"
   ]
  },
  {
   "cell_type": "code",
   "execution_count": 133,
   "id": "b42177ce-a24b-491c-a56e-36b2de71c138",
   "metadata": {},
   "outputs": [
    {
     "data": {
      "text/plain": [
       "array([ 1,  2,  3, 11, 12, 13])"
      ]
     },
     "execution_count": 133,
     "metadata": {},
     "output_type": "execute_result"
    }
   ],
   "source": [
    "A[A<=13]"
   ]
  },
  {
   "cell_type": "markdown",
   "id": "268b62f3-6c93-498d-91d3-920205ac7f9c",
   "metadata": {},
   "source": [
    "### Linear Algebra"
   ]
  },
  {
   "cell_type": "code",
   "execution_count": 135,
   "id": "0fe5baee-e331-442f-ad9f-4cca9c4a8ba4",
   "metadata": {},
   "outputs": [],
   "source": [
    "A = np.array([\n",
    "    [1, 2, 3],\n",
    "    [4, 5, 6],\n",
    "    [7, 8, 9]\n",
    "])"
   ]
  },
  {
   "cell_type": "code",
   "execution_count": 137,
   "id": "a7a23efe-0487-4f74-b962-58afa22ebd96",
   "metadata": {},
   "outputs": [],
   "source": [
    "B = np.array([\n",
    "    [6, 5],\n",
    "    [4, 3],\n",
    "    [2, 1]\n",
    "])"
   ]
  },
  {
   "cell_type": "code",
   "execution_count": 138,
   "id": "1d269cc2-ec5a-4249-90fd-7ec5fb03450f",
   "metadata": {},
   "outputs": [
    {
     "data": {
      "text/plain": [
       "array([[20, 14],\n",
       "       [56, 41],\n",
       "       [92, 68]])"
      ]
     },
     "execution_count": 138,
     "metadata": {},
     "output_type": "execute_result"
    }
   ],
   "source": [
    "A.dot(B)"
   ]
  },
  {
   "cell_type": "code",
   "execution_count": 139,
   "id": "92731a88-e40c-4e84-a8e3-baabfa3edac1",
   "metadata": {},
   "outputs": [
    {
     "data": {
      "text/plain": [
       "array([[20, 14],\n",
       "       [56, 41],\n",
       "       [92, 68]])"
      ]
     },
     "execution_count": 139,
     "metadata": {},
     "output_type": "execute_result"
    }
   ],
   "source": [
    "A @ B"
   ]
  },
  {
   "cell_type": "code",
   "execution_count": 140,
   "id": "e89671cc-605b-4e53-b353-63836a0de833",
   "metadata": {},
   "outputs": [
    {
     "data": {
      "text/plain": [
       "array([[6, 4, 2],\n",
       "       [5, 3, 1]])"
      ]
     },
     "execution_count": 140,
     "metadata": {},
     "output_type": "execute_result"
    }
   ],
   "source": [
    "B.T"
   ]
  },
  {
   "cell_type": "code",
   "execution_count": 141,
   "id": "1c5d9782-8a92-4d83-86e9-25d55400b95e",
   "metadata": {},
   "outputs": [
    {
     "data": {
      "text/plain": [
       "array([[1, 2, 3],\n",
       "       [4, 5, 6],\n",
       "       [7, 8, 9]])"
      ]
     },
     "execution_count": 141,
     "metadata": {},
     "output_type": "execute_result"
    }
   ],
   "source": [
    "A"
   ]
  },
  {
   "cell_type": "code",
   "execution_count": 142,
   "id": "b815d185-996f-476c-b2e5-09bf97449495",
   "metadata": {},
   "outputs": [
    {
     "data": {
      "text/plain": [
       "array([[36, 48, 60],\n",
       "       [24, 33, 42]])"
      ]
     },
     "execution_count": 142,
     "metadata": {},
     "output_type": "execute_result"
    }
   ],
   "source": [
    "B.T @ A"
   ]
  },
  {
   "cell_type": "markdown",
   "id": "e53240c4-b0ba-4c15-bfbb-7dd1596c9edd",
   "metadata": {},
   "source": [
    "### Size of Objects in Memory"
   ]
  },
  {
   "cell_type": "code",
   "execution_count": 145,
   "id": "e0271790-092d-470e-b759-be83d0040c47",
   "metadata": {},
   "outputs": [
    {
     "data": {
      "text/plain": [
       "28"
      ]
     },
     "execution_count": 145,
     "metadata": {},
     "output_type": "execute_result"
    }
   ],
   "source": [
    "sys.getsizeof(1)"
   ]
  },
  {
   "cell_type": "code",
   "execution_count": 147,
   "id": "d23afbc0-29a3-4064-8aea-5ba1ae864687",
   "metadata": {},
   "outputs": [
    {
     "data": {
      "text/plain": [
       "4"
      ]
     },
     "execution_count": 147,
     "metadata": {},
     "output_type": "execute_result"
    }
   ],
   "source": [
    "np.dtype(int).itemsize"
   ]
  },
  {
   "cell_type": "code",
   "execution_count": 156,
   "id": "9a376ef7-ddf4-4d80-ab3b-4e782ee4f70d",
   "metadata": {},
   "outputs": [
    {
     "data": {
      "text/plain": [
       "4"
      ]
     },
     "execution_count": 156,
     "metadata": {},
     "output_type": "execute_result"
    }
   ],
   "source": [
    "np.array([1,2,3]).itemsize"
   ]
  },
  {
   "cell_type": "code",
   "execution_count": 160,
   "id": "3311f251-e95e-47b3-abdc-4fffcf5ed47e",
   "metadata": {},
   "outputs": [
    {
     "data": {
      "text/plain": [
       "4"
      ]
     },
     "execution_count": 160,
     "metadata": {},
     "output_type": "execute_result"
    }
   ],
   "source": [
    "np.dtype('int32').itemsize"
   ]
  },
  {
   "cell_type": "markdown",
   "id": "0045cac9-9745-4d91-9782-7b03d9d4ba05",
   "metadata": {},
   "source": [
    "### Measuring performance btw reg. python and numpy"
   ]
  },
  {
   "cell_type": "code",
   "execution_count": 193,
   "id": "4b3d9b2e-88c7-4f4a-87bb-73783e326e35",
   "metadata": {},
   "outputs": [],
   "source": [
    "l = list(range(100000))"
   ]
  },
  {
   "cell_type": "code",
   "execution_count": 195,
   "id": "8c211402-64af-4a82-b1c3-1638b9ba6fc9",
   "metadata": {},
   "outputs": [],
   "source": [
    "a = np.arange(100000)"
   ]
  },
  {
   "cell_type": "code",
   "execution_count": 196,
   "id": "ae5d7dd8-d418-4ff7-9bfd-71bdb5aaaee0",
   "metadata": {},
   "outputs": [
    {
     "name": "stdout",
     "output_type": "stream",
     "text": [
      "Wall time: 998 µs\n"
     ]
    },
    {
     "data": {
      "text/plain": [
       "216474736"
      ]
     },
     "execution_count": 196,
     "metadata": {},
     "output_type": "execute_result"
    }
   ],
   "source": [
    "%time np.sum(a ** 2)"
   ]
  },
  {
   "cell_type": "code",
   "execution_count": 197,
   "id": "82578c7a-4162-493e-bfdb-8056acf981f9",
   "metadata": {},
   "outputs": [
    {
     "name": "stdout",
     "output_type": "stream",
     "text": [
      "Wall time: 32.9 ms\n"
     ]
    },
    {
     "data": {
      "text/plain": [
       "333328333350000"
      ]
     },
     "execution_count": 197,
     "metadata": {},
     "output_type": "execute_result"
    }
   ],
   "source": [
    "%time sum([x ** 2 for x in l])"
   ]
  }
 ],
 "metadata": {
  "kernelspec": {
   "display_name": "Python 3 (ipykernel)",
   "language": "python",
   "name": "python3"
  },
  "language_info": {
   "codemirror_mode": {
    "name": "ipython",
    "version": 3
   },
   "file_extension": ".py",
   "mimetype": "text/x-python",
   "name": "python",
   "nbconvert_exporter": "python",
   "pygments_lexer": "ipython3",
   "version": "3.9.6"
  }
 },
 "nbformat": 4,
 "nbformat_minor": 5
}
