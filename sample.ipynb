{
 "cells": [
  {
   "cell_type": "code",
   "execution_count": 10,
   "id": "5ca995f6-3551-4560-bad8-625d4063d231",
   "metadata": {},
   "outputs": [
    {
     "name": "stdout",
     "output_type": "stream",
     "text": [
      "hello worldhello worldhello world\n"
     ]
    }
   ],
   "source": [
    "print(\"hello world\"*3)"
   ]
  },
  {
   "cell_type": "code",
   "execution_count": 14,
   "id": "1bc456ed-3fa1-432d-bb67-e22e6dcfc508",
   "metadata": {},
   "outputs": [
    {
     "data": {
      "text/plain": [
       "6"
      ]
     },
     "execution_count": 14,
     "metadata": {},
     "output_type": "execute_result"
    }
   ],
   "source": [
    "1+5"
   ]
  },
  {
   "cell_type": "markdown",
   "id": "e7bb3744-9e62-4dd1-95f5-64ed197dd56c",
   "metadata": {},
   "source": [
    "# big heading"
   ]
  },
  {
   "cell_type": "markdown",
   "id": "1dc01327-c71b-4f68-8f68-78486ea91666",
   "metadata": {},
   "source": [
    "### above field created via \"a\""
   ]
  },
  {
   "cell_type": "code",
   "execution_count": 15,
   "id": "77d47022-ce94-4d7d-8923-f859f58ba78e",
   "metadata": {},
   "outputs": [
    {
     "data": {
      "text/plain": [
       "134"
      ]
     },
     "execution_count": 15,
     "metadata": {},
     "output_type": "execute_result"
    }
   ],
   "source": [
    "2*67"
   ]
  },
  {
   "cell_type": "markdown",
   "id": "7cdc267e-f277-48d4-b88a-33f308683baf",
   "metadata": {},
   "source": [
    "### below field created via \"b\""
   ]
  },
  {
   "cell_type": "code",
   "execution_count": 21,
   "id": "4850bd33-5281-4e80-9af1-83cb1962cdef",
   "metadata": {},
   "outputs": [
    {
     "data": {
      "text/plain": [
       "91"
      ]
     },
     "execution_count": 21,
     "metadata": {},
     "output_type": "execute_result"
    }
   ],
   "source": [
    "1+90"
   ]
  },
  {
   "cell_type": "code",
   "execution_count": null,
   "id": "fac8e5af-4774-4be0-9df8-c878b233a197",
   "metadata": {},
   "outputs": [],
   "source": []
  }
 ],
 "metadata": {
  "kernelspec": {
   "display_name": "Python 3 (ipykernel)",
   "language": "python",
   "name": "python3"
  },
  "language_info": {
   "codemirror_mode": {
    "name": "ipython",
    "version": 3
   },
   "file_extension": ".py",
   "mimetype": "text/x-python",
   "name": "python",
   "nbconvert_exporter": "python",
   "pygments_lexer": "ipython3",
   "version": "3.9.6"
  }
 },
 "nbformat": 4,
 "nbformat_minor": 5
}
